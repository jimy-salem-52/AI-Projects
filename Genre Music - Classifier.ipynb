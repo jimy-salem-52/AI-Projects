{
 "cells": [
  {
   "cell_type": "code",
   "execution_count": 1,
   "metadata": {},
   "outputs": [],
   "source": [
    "import pandas as pd\n",
    "from sklearn.model_selection import train_test_split\n",
    "from sklearn.preprocessing import StandardScaler, LabelEncoder\n",
    "from sklearn.decomposition import PCA\n",
    "from sklearn.neighbors import KNeighborsClassifier\n",
    "from sklearn.ensemble import RandomForestClassifier, GradientBoostingClassifier\n",
    "from sklearn.svm import SVC\n",
    "from sklearn.neural_network import MLPClassifier\n",
    "from sklearn.metrics import accuracy_score, confusion_matrix, classification_report\n",
    "import matplotlib.pyplot as plt\n",
    "import seaborn as sns\n",
    "import numpy as np"
   ]
  },
  {
   "cell_type": "markdown",
   "metadata": {},
   "source": [
    "# Loading Data - EDA - PCA"
   ]
  },
  {
   "cell_type": "code",
   "execution_count": 3,
   "metadata": {},
   "outputs": [
    {
     "data": {
      "text/html": [
       "<div>\n",
       "<style scoped>\n",
       "    .dataframe tbody tr th:only-of-type {\n",
       "        vertical-align: middle;\n",
       "    }\n",
       "\n",
       "    .dataframe tbody tr th {\n",
       "        vertical-align: top;\n",
       "    }\n",
       "\n",
       "    .dataframe thead th {\n",
       "        text-align: right;\n",
       "    }\n",
       "</style>\n",
       "<table border=\"1\" class=\"dataframe\">\n",
       "  <thead>\n",
       "    <tr style=\"text-align: right;\">\n",
       "      <th></th>\n",
       "      <th>filename</th>\n",
       "      <th>length</th>\n",
       "      <th>chroma_stft_mean</th>\n",
       "      <th>chroma_stft_var</th>\n",
       "      <th>rms_mean</th>\n",
       "      <th>rms_var</th>\n",
       "      <th>spectral_centroid_mean</th>\n",
       "      <th>spectral_centroid_var</th>\n",
       "      <th>spectral_bandwidth_mean</th>\n",
       "      <th>spectral_bandwidth_var</th>\n",
       "      <th>...</th>\n",
       "      <th>mfcc16_var</th>\n",
       "      <th>mfcc17_mean</th>\n",
       "      <th>mfcc17_var</th>\n",
       "      <th>mfcc18_mean</th>\n",
       "      <th>mfcc18_var</th>\n",
       "      <th>mfcc19_mean</th>\n",
       "      <th>mfcc19_var</th>\n",
       "      <th>mfcc20_mean</th>\n",
       "      <th>mfcc20_var</th>\n",
       "      <th>label</th>\n",
       "    </tr>\n",
       "  </thead>\n",
       "  <tbody>\n",
       "    <tr>\n",
       "      <th>0</th>\n",
       "      <td>blues.00000.wav</td>\n",
       "      <td>661794</td>\n",
       "      <td>0.350088</td>\n",
       "      <td>0.088757</td>\n",
       "      <td>0.130228</td>\n",
       "      <td>0.002827</td>\n",
       "      <td>1784.165850</td>\n",
       "      <td>129774.064525</td>\n",
       "      <td>2002.449060</td>\n",
       "      <td>85882.761315</td>\n",
       "      <td>...</td>\n",
       "      <td>52.420910</td>\n",
       "      <td>-1.690215</td>\n",
       "      <td>36.524071</td>\n",
       "      <td>-0.408979</td>\n",
       "      <td>41.597103</td>\n",
       "      <td>-2.303523</td>\n",
       "      <td>55.062923</td>\n",
       "      <td>1.221291</td>\n",
       "      <td>46.936035</td>\n",
       "      <td>blues</td>\n",
       "    </tr>\n",
       "    <tr>\n",
       "      <th>1</th>\n",
       "      <td>blues.00001.wav</td>\n",
       "      <td>661794</td>\n",
       "      <td>0.340914</td>\n",
       "      <td>0.094980</td>\n",
       "      <td>0.095948</td>\n",
       "      <td>0.002373</td>\n",
       "      <td>1530.176679</td>\n",
       "      <td>375850.073649</td>\n",
       "      <td>2039.036516</td>\n",
       "      <td>213843.755497</td>\n",
       "      <td>...</td>\n",
       "      <td>55.356403</td>\n",
       "      <td>-0.731125</td>\n",
       "      <td>60.314529</td>\n",
       "      <td>0.295073</td>\n",
       "      <td>48.120598</td>\n",
       "      <td>-0.283518</td>\n",
       "      <td>51.106190</td>\n",
       "      <td>0.531217</td>\n",
       "      <td>45.786282</td>\n",
       "      <td>blues</td>\n",
       "    </tr>\n",
       "    <tr>\n",
       "      <th>2</th>\n",
       "      <td>blues.00002.wav</td>\n",
       "      <td>661794</td>\n",
       "      <td>0.363637</td>\n",
       "      <td>0.085275</td>\n",
       "      <td>0.175570</td>\n",
       "      <td>0.002746</td>\n",
       "      <td>1552.811865</td>\n",
       "      <td>156467.643368</td>\n",
       "      <td>1747.702312</td>\n",
       "      <td>76254.192257</td>\n",
       "      <td>...</td>\n",
       "      <td>40.598766</td>\n",
       "      <td>-7.729093</td>\n",
       "      <td>47.639427</td>\n",
       "      <td>-1.816407</td>\n",
       "      <td>52.382141</td>\n",
       "      <td>-3.439720</td>\n",
       "      <td>46.639660</td>\n",
       "      <td>-2.231258</td>\n",
       "      <td>30.573025</td>\n",
       "      <td>blues</td>\n",
       "    </tr>\n",
       "    <tr>\n",
       "      <th>3</th>\n",
       "      <td>blues.00003.wav</td>\n",
       "      <td>661794</td>\n",
       "      <td>0.404785</td>\n",
       "      <td>0.093999</td>\n",
       "      <td>0.141093</td>\n",
       "      <td>0.006346</td>\n",
       "      <td>1070.106615</td>\n",
       "      <td>184355.942417</td>\n",
       "      <td>1596.412872</td>\n",
       "      <td>166441.494769</td>\n",
       "      <td>...</td>\n",
       "      <td>44.427753</td>\n",
       "      <td>-3.319597</td>\n",
       "      <td>50.206673</td>\n",
       "      <td>0.636965</td>\n",
       "      <td>37.319130</td>\n",
       "      <td>-0.619121</td>\n",
       "      <td>37.259739</td>\n",
       "      <td>-3.407448</td>\n",
       "      <td>31.949339</td>\n",
       "      <td>blues</td>\n",
       "    </tr>\n",
       "    <tr>\n",
       "      <th>4</th>\n",
       "      <td>blues.00004.wav</td>\n",
       "      <td>661794</td>\n",
       "      <td>0.308526</td>\n",
       "      <td>0.087841</td>\n",
       "      <td>0.091529</td>\n",
       "      <td>0.002303</td>\n",
       "      <td>1835.004266</td>\n",
       "      <td>343399.939274</td>\n",
       "      <td>1748.172116</td>\n",
       "      <td>88445.209036</td>\n",
       "      <td>...</td>\n",
       "      <td>86.099236</td>\n",
       "      <td>-5.454034</td>\n",
       "      <td>75.269707</td>\n",
       "      <td>-0.916874</td>\n",
       "      <td>53.613918</td>\n",
       "      <td>-4.404827</td>\n",
       "      <td>62.910812</td>\n",
       "      <td>-11.703234</td>\n",
       "      <td>55.195160</td>\n",
       "      <td>blues</td>\n",
       "    </tr>\n",
       "  </tbody>\n",
       "</table>\n",
       "<p>5 rows × 60 columns</p>\n",
       "</div>"
      ],
      "text/plain": [
       "          filename  length  chroma_stft_mean  chroma_stft_var  rms_mean  \\\n",
       "0  blues.00000.wav  661794          0.350088         0.088757  0.130228   \n",
       "1  blues.00001.wav  661794          0.340914         0.094980  0.095948   \n",
       "2  blues.00002.wav  661794          0.363637         0.085275  0.175570   \n",
       "3  blues.00003.wav  661794          0.404785         0.093999  0.141093   \n",
       "4  blues.00004.wav  661794          0.308526         0.087841  0.091529   \n",
       "\n",
       "    rms_var  spectral_centroid_mean  spectral_centroid_var  \\\n",
       "0  0.002827             1784.165850          129774.064525   \n",
       "1  0.002373             1530.176679          375850.073649   \n",
       "2  0.002746             1552.811865          156467.643368   \n",
       "3  0.006346             1070.106615          184355.942417   \n",
       "4  0.002303             1835.004266          343399.939274   \n",
       "\n",
       "   spectral_bandwidth_mean  spectral_bandwidth_var  ...  mfcc16_var  \\\n",
       "0              2002.449060            85882.761315  ...   52.420910   \n",
       "1              2039.036516           213843.755497  ...   55.356403   \n",
       "2              1747.702312            76254.192257  ...   40.598766   \n",
       "3              1596.412872           166441.494769  ...   44.427753   \n",
       "4              1748.172116            88445.209036  ...   86.099236   \n",
       "\n",
       "   mfcc17_mean  mfcc17_var  mfcc18_mean  mfcc18_var  mfcc19_mean  mfcc19_var  \\\n",
       "0    -1.690215   36.524071    -0.408979   41.597103    -2.303523   55.062923   \n",
       "1    -0.731125   60.314529     0.295073   48.120598    -0.283518   51.106190   \n",
       "2    -7.729093   47.639427    -1.816407   52.382141    -3.439720   46.639660   \n",
       "3    -3.319597   50.206673     0.636965   37.319130    -0.619121   37.259739   \n",
       "4    -5.454034   75.269707    -0.916874   53.613918    -4.404827   62.910812   \n",
       "\n",
       "   mfcc20_mean  mfcc20_var  label  \n",
       "0     1.221291   46.936035  blues  \n",
       "1     0.531217   45.786282  blues  \n",
       "2    -2.231258   30.573025  blues  \n",
       "3    -3.407448   31.949339  blues  \n",
       "4   -11.703234   55.195160  blues  \n",
       "\n",
       "[5 rows x 60 columns]"
      ]
     },
     "execution_count": 3,
     "metadata": {},
     "output_type": "execute_result"
    }
   ],
   "source": [
    "data=pd.read_csv('features_30_sec.csv')\n",
    "data.head()"
   ]
  },
  {
   "cell_type": "code",
   "execution_count": 4,
   "metadata": {},
   "outputs": [],
   "source": [
    "X = data.drop(['filename', 'label'], axis=1)\n",
    "y = data['label']\n",
    "\n",
    "label_encoder = LabelEncoder()\n",
    "y_encoded = label_encoder.fit_transform(y)\n",
    "\n",
    "X_train, X_test, y_train, y_test = train_test_split(X, y_encoded, test_size=0.2, random_state=42)\n",
    "\n",
    "# Standardization\n",
    "scaler = StandardScaler()\n",
    "X_train_scaled = scaler.fit_transform(X_train)\n",
    "X_test_scaled = scaler.transform(X_test)"
   ]
  },
  {
   "cell_type": "code",
   "execution_count": 12,
   "metadata": {},
   "outputs": [
    {
     "name": "stdout",
     "output_type": "stream",
     "text": [
      "Number of components selected: 33\n"
     ]
    }
   ],
   "source": [
    "pca = PCA().fit(X_train_scaled)\n",
    "n_components = np.argmax(np.cumsum(pca.explained_variance_ratio_) >= 0.95) + 1\n",
    "print(f\"Number of components selected: {n_components}\")\n",
    "\n",
    "# Transform data using selected number of components\n",
    "pca = PCA(n_components=n_components)\n",
    "X_train_pca = pca.fit_transform(X_train_scaled)\n",
    "X_test_pca = pca.transform(X_test_scaled)\n",
    "\n",
    "pca_feature_names = [f'PC{i+1}' for i in range(n_components)]\n",
    "X_train_pca_df = pd.DataFrame(X_train_pca, columns=pca_feature_names)\n",
    "X_test_pca_df = pd.DataFrame(X_test_pca, columns=pca_feature_names)"
   ]
  },
  {
   "cell_type": "markdown",
   "metadata": {},
   "source": [
    "# Model Training"
   ]
  },
  {
   "cell_type": "code",
   "execution_count": 13,
   "metadata": {},
   "outputs": [],
   "source": [
    "models = {\n",
    "    'K-NN': KNeighborsClassifier(n_neighbors=5),\n",
    "    'Random Forest': RandomForestClassifier(n_estimators=100),\n",
    "    'SVM': SVC(kernel='linear'),\n",
    "    'Gradient Boosting': GradientBoostingClassifier(n_estimators=100),\n",
    "    'MLP': MLPClassifier(hidden_layer_sizes=(100,), max_iter=300)\n",
    "}"
   ]
  },
  {
   "cell_type": "markdown",
   "metadata": {},
   "source": [
    "### Needed Functions"
   ]
  },
  {
   "cell_type": "code",
   "execution_count": 46,
   "metadata": {},
   "outputs": [],
   "source": [
    "def evaluate_classifier(classifier, X_train, y_train, X_test, y_test, feature_names=None):\n",
    "    classifier.fit(X_train, y_train)\n",
    "    y_pred = classifier.predict(X_test)\n",
    "    \n",
    "    # Calculate evaluation metrics\n",
    "    accuracy = accuracy_score(y_test, y_pred)\n",
    "    conf_matrix = confusion_matrix(y_test, y_pred)\n",
    "    class_report = classification_report(y_test, y_pred, output_dict=True)\n",
    "\n",
    "    results = {\n",
    "        'accuracy': accuracy,\n",
    "        'confusion_matrix': conf_matrix,\n",
    "        'classification_report': class_report\n",
    "    }\n",
    "    \n",
    "    print(f\"\\n{classifier.__class__.__name__} Results:\")\n",
    "    print(f\"Accuracy: {results['accuracy']}\")\n",
    "    print(\"Confusion Matrix:\")\n",
    "    print(results['confusion_matrix'])\n",
    "    print(\"Classification Report:\")\n",
    "    print(pd.DataFrame(results['classification_report']).transpose())\n",
    "\n",
    "    if hasattr(classifier, 'feature_importances_') or (hasattr(classifier, 'coef_') and classifier.__class__.__name__ != 'SVC'):\n",
    "        feature_importances = extract_feature_importance(classifier, feature_names)\n",
    "        print(f\"\\n{classifier.__class__.__name__} Feature Importances:\")\n",
    "        print(feature_importances)\n",
    "        feature_importances.plot(kind='bar', x='Feature', y='Importance', legend=False, title=f\"{classifier.__class__.__name__} Feature Importances\")\n",
    "        plt.show()\n",
    "\n",
    "    return results['accuracy']\n",
    "\n",
    "def extract_feature_importance(classifier, feature_names):\n",
    "    if hasattr(classifier, 'feature_importances_'):\n",
    "        importance = classifier.feature_importances_\n",
    "    elif hasattr(classifier, 'coef_'):\n",
    "        importance = classifier.coef_[0]\n",
    "    else:\n",
    "        raise ValueError('Classifier does not have feature_importances_ or coef_ attribute')\n",
    "\n",
    "    feature_importance_df = pd.DataFrame({\n",
    "        'Feature': feature_names,\n",
    "        'Importance': importance\n",
    "    })\n",
    "    feature_importance_df = feature_importance_df.sort_values(by='Importance', ascending=False).reset_index(drop=True)\n",
    "    return feature_importance_df\n",
    "\n",
    "def plot_accuracies(accuracies):\n",
    "    df_accuracies = pd.DataFrame(list(accuracies.items()), columns=['Model', 'Accuracy'])\n",
    "    df_accuracies = df_accuracies.sort_values(by='Accuracy', ascending=False)\n",
    "\n",
    "    plt.figure(figsize=(10, 6))\n",
    "    plt.bar(df_accuracies['Model'], df_accuracies['Accuracy'], color='skyblue')\n",
    "    plt.xlabel('Model')\n",
    "    plt.ylabel('Accuracy')\n",
    "    plt.title('Comparison of Model Accuracies')\n",
    "    plt.xticks(rotation=45)\n",
    "    plt.show()"
   ]
  },
  {
   "cell_type": "markdown",
   "metadata": {},
   "source": [
    "# Model Training & Evaluation"
   ]
  },
  {
   "cell_type": "code",
   "execution_count": 47,
   "metadata": {},
   "outputs": [],
   "source": [
    "accuracies = {}"
   ]
  },
  {
   "cell_type": "markdown",
   "metadata": {},
   "source": [
    "## KNN"
   ]
  },
  {
   "cell_type": "code",
   "execution_count": 48,
   "metadata": {},
   "outputs": [
    {
     "name": "stdout",
     "output_type": "stream",
     "text": [
      "\n",
      "KNeighborsClassifier Results:\n",
      "Accuracy: 0.655\n",
      "Confusion Matrix:\n",
      "[[14  0  3  0  0  0  0  0  0  3]\n",
      " [ 0 11  0  0  0  2  0  0  0  0]\n",
      " [ 2  1 18  1  1  1  0  0  2  1]\n",
      " [ 1  0  2 14  1  0  1  1  1  0]\n",
      " [ 0  0  0  1 11  0  0  1  2  0]\n",
      " [ 1  1  3  1  0 15  0  0  0  1]\n",
      " [ 0  0  0  3  0  0 21  0  0  1]\n",
      " [ 1  0  0  0  0  1  0 10  1  0]\n",
      " [ 0  0  5  3  5  0  1  1  8  0]\n",
      " [ 3  0  4  1  0  1  0  2  1  9]]\n",
      "Classification Report:\n",
      "              precision    recall  f1-score  support\n",
      "0              0.636364  0.700000  0.666667   20.000\n",
      "1              0.846154  0.846154  0.846154   13.000\n",
      "2              0.514286  0.666667  0.580645   27.000\n",
      "3              0.583333  0.666667  0.622222   21.000\n",
      "4              0.611111  0.733333  0.666667   15.000\n",
      "5              0.750000  0.681818  0.714286   22.000\n",
      "6              0.913043  0.840000  0.875000   25.000\n",
      "7              0.666667  0.769231  0.714286   13.000\n",
      "8              0.533333  0.347826  0.421053   23.000\n",
      "9              0.600000  0.428571  0.500000   21.000\n",
      "accuracy       0.655000  0.655000  0.655000    0.655\n",
      "macro avg      0.665429  0.668027  0.660698  200.000\n",
      "weighted avg   0.659445  0.655000  0.650683  200.000\n"
     ]
    }
   ],
   "source": [
    "# for model_name, model in models.items():\n",
    "#     feature_names = X_train_pca_df.columns if model_name in ['Random Forest', 'Gradient Boosting'] else None\n",
    "#     accuracies[model_name] = evaluate_classifier(model, X_train_pca_df, y_train, X_test_pca_df, y_test, feature_names)\n",
    "\n",
    "# models = {\n",
    "#     'K-NN': KNeighborsClassifier(n_neighbors=5),\n",
    "#     'Random Forest': RandomForestClassifier(n_estimators=100),\n",
    "#     'SVM': SVC(kernel='linear'),\n",
    "#     'Gradient Boosting': GradientBoostingClassifier(n_estimators=100),\n",
    "#     'MLP': MLPClassifier(hidden_layer_sizes=(100,), max_iter=300)\n",
    "# }\n",
    "\n",
    "accuracies['K-NN']=evaluate_classifier(models['K-NN'],X_train_pca,y_train,X_test_pca,y_test)\n"
   ]
  },
  {
   "cell_type": "markdown",
   "metadata": {},
   "source": [
    "## Random Forest"
   ]
  },
  {
   "cell_type": "code",
   "execution_count": 49,
   "metadata": {},
   "outputs": [
    {
     "name": "stdout",
     "output_type": "stream",
     "text": [
      "\n",
      "RandomForestClassifier Results:\n",
      "Accuracy: 0.66\n",
      "Confusion Matrix:\n",
      "[[13  0  0  0  1  1  4  0  0  1]\n",
      " [ 0 12  0  0  0  1  0  0  0  0]\n",
      " [ 2  0 18  2  0  0  1  0  2  2]\n",
      " [ 1  0  0  9  2  0  2  4  3  0]\n",
      " [ 0  0  0  0 13  0  0  1  1  0]\n",
      " [ 0  0  1  1  0 18  0  1  0  1]\n",
      " [ 1  0  0  1  1  0 21  0  0  1]\n",
      " [ 1  0  0  0  0  2  0  8  2  0]\n",
      " [ 1  1  1  3  3  0  2  1 10  1]\n",
      " [ 1  0  4  2  0  0  2  1  1 10]]\n",
      "Classification Report:\n",
      "              precision    recall  f1-score  support\n",
      "0              0.650000  0.650000  0.650000    20.00\n",
      "1              0.923077  0.923077  0.923077    13.00\n",
      "2              0.750000  0.666667  0.705882    27.00\n",
      "3              0.500000  0.428571  0.461538    21.00\n",
      "4              0.650000  0.866667  0.742857    15.00\n",
      "5              0.818182  0.818182  0.818182    22.00\n",
      "6              0.656250  0.840000  0.736842    25.00\n",
      "7              0.500000  0.615385  0.551724    13.00\n",
      "8              0.526316  0.434783  0.476190    23.00\n",
      "9              0.625000  0.476190  0.540541    21.00\n",
      "accuracy       0.660000  0.660000  0.660000     0.66\n",
      "macro avg      0.659882  0.671952  0.660683   200.00\n",
      "weighted avg   0.658183  0.660000  0.653956   200.00\n",
      "\n",
      "RandomForestClassifier Feature Importances:\n",
      "   Feature  Importance\n",
      "0      PC2    0.111661\n",
      "1      PC1    0.073035\n",
      "2      PC4    0.050329\n",
      "3      PC5    0.041458\n",
      "4      PC3    0.040422\n",
      "5      PC6    0.038519\n",
      "6      PC7    0.036135\n",
      "7      PC8    0.030824\n",
      "8     PC14    0.030069\n",
      "9     PC15    0.029213\n",
      "10    PC10    0.028014\n",
      "11    PC11    0.026741\n",
      "12    PC12    0.026668\n",
      "13     PC9    0.026159\n",
      "14    PC27    0.025502\n",
      "15    PC21    0.025459\n",
      "16    PC28    0.024624\n",
      "17    PC16    0.023482\n",
      "18    PC29    0.023386\n",
      "19    PC13    0.022992\n",
      "20    PC24    0.021920\n",
      "21    PC19    0.021613\n",
      "22    PC18    0.021585\n",
      "23    PC26    0.021464\n",
      "24    PC30    0.021406\n",
      "25    PC23    0.021307\n",
      "26    PC22    0.020880\n",
      "27    PC20    0.020699\n",
      "28    PC17    0.020443\n",
      "29    PC32    0.019356\n",
      "30    PC33    0.018674\n",
      "31    PC25    0.018466\n",
      "32    PC31    0.017494\n"
     ]
    },
    {
     "data": {
      "image/png": "[encoded data removed]",
      "text/plain": [
       "<Figure size 640x480 with 1 Axes>"
      ]
     },
     "metadata": {},
     "output_type": "display_data"
    }
   ],
   "source": [
    "accuracies['Random Forest']=evaluate_classifier(models['Random Forest'], X_train_pca_df,y_train, X_test_pca_df,y_test, X_train_pca_df.columns)"
   ]
  },
  {
   "cell_type": "markdown",
   "metadata": {},
   "source": [
    "## SVM"
   ]
  },
  {
   "cell_type": "code",
   "execution_count": 50,
   "metadata": {},
   "outputs": [
    {
     "name": "stdout",
     "output_type": "stream",
     "text": [
      "\n",
      "SVC Results:\n",
      "Accuracy: 0.675\n",
      "Confusion Matrix:\n",
      "[[10  0  1  0  0  1  3  0  2  3]\n",
      " [ 0 12  1  0  0  0  0  0  0  0]\n",
      " [ 2  0 18  1  1  0  0  0  1  4]\n",
      " [ 1  0  1 13  3  0  0  1  1  1]\n",
      " [ 1  0  0  1 11  0  0  0  2  0]\n",
      " [ 1  1  1  0  0 16  0  1  0  2]\n",
      " [ 0  0  0  1  1  0 22  0  0  1]\n",
      " [ 0  0  2  0  0  0  0 11  0  0]\n",
      " [ 1  0  3  0  4  0  2  0 12  1]\n",
      " [ 3  0  3  3  1  0  1  0  0 10]]\n",
      "Classification Report:\n",
      "              precision    recall  f1-score  support\n",
      "0              0.526316  0.500000  0.512821   20.000\n",
      "1              0.923077  0.923077  0.923077   13.000\n",
      "2              0.600000  0.666667  0.631579   27.000\n",
      "3              0.684211  0.619048  0.650000   21.000\n",
      "4              0.523810  0.733333  0.611111   15.000\n",
      "5              0.941176  0.727273  0.820513   22.000\n",
      "6              0.785714  0.880000  0.830189   25.000\n",
      "7              0.846154  0.846154  0.846154   13.000\n",
      "8              0.666667  0.521739  0.585366   23.000\n",
      "9              0.454545  0.476190  0.465116   21.000\n",
      "accuracy       0.675000  0.675000  0.675000    0.675\n",
      "macro avg      0.695167  0.689348  0.687592  200.000\n",
      "weighted avg   0.685897  0.675000  0.675813  200.000\n"
     ]
    }
   ],
   "source": [
    "accuracies['SVM']=evaluate_classifier(models['SVM'], X_train_pca_df,y_train, X_test_pca_df,y_test)"
   ]
  },
  {
   "cell_type": "markdown",
   "metadata": {},
   "source": [
    "## Gradient Boosting"
   ]
  },
  {
   "cell_type": "code",
   "execution_count": 51,
   "metadata": {},
   "outputs": [
    {
     "name": "stdout",
     "output_type": "stream",
     "text": [
      "\n",
      "GradientBoostingClassifier Results:\n",
      "Accuracy: 0.615\n",
      "Confusion Matrix:\n",
      "[[ 8  0  1  0  1  1  3  0  3  3]\n",
      " [ 0 12  0  0  0  1  0  0  0  0]\n",
      " [ 3  1 19  0  0  0  1  0  0  3]\n",
      " [ 1  0  0 13  4  0  0  1  1  1]\n",
      " [ 1  0  0  2  7  0  0  0  5  0]\n",
      " [ 2  1  0  0  0 17  0  0  0  2]\n",
      " [ 1  0  0  1  1  0 21  0  0  1]\n",
      " [ 2  0  2  1  0  1  0  7  0  0]\n",
      " [ 2  0  2  2  4  1  1  1 10  0]\n",
      " [ 2  0  4  3  1  0  1  0  1  9]]\n",
      "Classification Report:\n",
      "              precision    recall  f1-score  support\n",
      "0              0.363636  0.400000  0.380952   20.000\n",
      "1              0.857143  0.923077  0.888889   13.000\n",
      "2              0.678571  0.703704  0.690909   27.000\n",
      "3              0.590909  0.619048  0.604651   21.000\n",
      "4              0.388889  0.466667  0.424242   15.000\n",
      "5              0.809524  0.772727  0.790698   22.000\n",
      "6              0.777778  0.840000  0.807692   25.000\n",
      "7              0.777778  0.538462  0.636364   13.000\n",
      "8              0.500000  0.434783  0.465116   23.000\n",
      "9              0.473684  0.428571  0.450000   21.000\n",
      "accuracy       0.615000  0.615000  0.615000    0.615\n",
      "macro avg      0.621791  0.612704  0.613951  200.000\n",
      "weighted avg   0.618959  0.615000  0.614493  200.000\n",
      "\n",
      "GradientBoostingClassifier Feature Importances:\n",
      "   Feature  Importance\n",
      "0      PC2    0.227600\n",
      "1      PC1    0.125999\n",
      "2      PC4    0.061686\n",
      "3      PC3    0.050928\n",
      "4      PC6    0.050039\n",
      "5      PC5    0.049714\n",
      "6      PC7    0.036243\n",
      "7     PC10    0.029528\n",
      "8     PC14    0.029320\n",
      "9     PC27    0.024096\n",
      "10    PC11    0.021780\n",
      "11    PC13    0.019777\n",
      "12    PC15    0.018390\n",
      "13     PC8    0.017771\n",
      "14     PC9    0.017564\n",
      "15    PC18    0.017517\n",
      "16    PC28    0.016646\n",
      "17    PC16    0.016198\n",
      "18    PC19    0.015915\n",
      "19    PC12    0.015290\n",
      "20    PC24    0.014555\n",
      "21    PC23    0.013500\n",
      "22    PC25    0.012970\n",
      "23    PC20    0.012331\n",
      "24    PC21    0.011822\n",
      "25    PC29    0.011325\n",
      "26    PC17    0.011208\n",
      "27    PC26    0.010977\n",
      "28    PC30    0.009092\n",
      "29    PC31    0.008624\n",
      "30    PC22    0.008535\n",
      "31    PC33    0.006814\n",
      "32    PC32    0.006244\n"
     ]
    },
    {
     "data": {
      "image/png": "[encoded data removed]",
      "text/plain": [
       "<Figure size 640x480 with 1 Axes>"
      ]
     },
     "metadata": {},
     "output_type": "display_data"
    }
   ],
   "source": [
    "accuracies['Gradient Boosting']=evaluate_classifier(models['Gradient Boosting'], X_train_pca_df,y_train, X_test_pca_df,y_test, X_train_pca_df.columns)"
   ]
  },
  {
   "cell_type": "markdown",
   "metadata": {},
   "source": [
    "## MLP"
   ]
  },
  {
   "cell_type": "code",
   "execution_count": 52,
   "metadata": {},
   "outputs": [
    {
     "name": "stdout",
     "output_type": "stream",
     "text": [
      "\n",
      "MLPClassifier Results:\n",
      "Accuracy: 0.72\n",
      "Confusion Matrix:\n",
      "[[14  0  1  0  1  0  2  0  1  1]\n",
      " [ 0 12  0  0  0  1  0  0  0  0]\n",
      " [ 3  0 17  0  0  1  1  0  2  3]\n",
      " [ 2  0  0 13  3  0  1  0  1  1]\n",
      " [ 0  0  0  0 11  1  1  1  1  0]\n",
      " [ 0  1  0  0  0 19  0  1  0  1]\n",
      " [ 0  0  0  1  0  0 22  0  0  2]\n",
      " [ 0  0  1  1  0  0  0 11  0  0]\n",
      " [ 1  0  3  2  3  0  2  0 11  1]\n",
      " [ 0  0  0  3  1  0  0  1  2 14]]\n",
      "Classification Report:\n",
      "              precision    recall  f1-score  support\n",
      "0              0.700000  0.700000  0.700000    20.00\n",
      "1              0.923077  0.923077  0.923077    13.00\n",
      "2              0.772727  0.629630  0.693878    27.00\n",
      "3              0.650000  0.619048  0.634146    21.00\n",
      "4              0.578947  0.733333  0.647059    15.00\n",
      "5              0.863636  0.863636  0.863636    22.00\n",
      "6              0.758621  0.880000  0.814815    25.00\n",
      "7              0.785714  0.846154  0.814815    13.00\n",
      "8              0.611111  0.478261  0.536585    23.00\n",
      "9              0.608696  0.666667  0.636364    21.00\n",
      "accuracy       0.720000  0.720000  0.720000     0.72\n",
      "macro avg      0.725253  0.733981  0.726437   200.00\n",
      "weighted avg   0.721079  0.720000  0.717129   200.00\n"
     ]
    },
    {
     "name": "stderr",
     "output_type": "stream",
     "text": [
      "C:\\Users\\SADEK COMPUTER\\AppData\\Roaming\\Python\\Python311\\site-packages\\sklearn\\neural_network\\_multilayer_perceptron.py:691: ConvergenceWarning: Stochastic Optimizer: Maximum iterations (300) reached and the optimization hasn't converged yet.\n",
      "  warnings.warn(\n"
     ]
    }
   ],
   "source": [
    "accuracies['MLP']=evaluate_classifier(models['MLP'], X_train_pca_df,y_train, X_test_pca_df,y_test)"
   ]
  },
  {
   "cell_type": "markdown",
   "metadata": {},
   "source": [
    "# Comparision"
   ]
  },
  {
   "cell_type": "code",
   "execution_count": 53,
   "metadata": {},
   "outputs": [
    {
     "data": {
      "image/png": "[encoded data removed]",
      "text/plain": [
       "<Figure size 1000x600 with 1 Axes>"
      ]
     },
     "metadata": {},
     "output_type": "display_data"
    }
   ],
   "source": [
    "plot_accuracies(accuracies)"
   ]
  }
 ],
 "metadata": {
  "kernelspec": {
   "display_name": "pyspark_env",
   "language": "python",
   "name": "python3"
  },
  "language_info": {
   "codemirror_mode": {
    "name": "ipython",
    "version": 3
   },
   "file_extension": ".py",
   "mimetype": "text/x-python",
   "name": "python",
   "nbconvert_exporter": "python",
   "pygments_lexer": "ipython3",
   "version": "3.11.8"
  }
 },
 "nbformat": 4,
 "nbformat_minor": 2
}
